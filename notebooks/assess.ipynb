{
 "cells": [
  {
   "cell_type": "code",
   "execution_count": 27,
   "metadata": {},
   "outputs": [],
   "source": [
    "import io\n",
    "import os\n",
    "import zipfile\n",
    "import pickle\n",
    "from urllib.request import urlopen\n",
    "from urllib.parse import urlparse\n",
    "\n",
    "import pandas as pd\n",
    "import numpy as np\n",
    "from tqdm import tqdm\n",
    "import matplotlib.pyplot as plt"
   ]
  },
  {
   "cell_type": "code",
   "execution_count": 28,
   "metadata": {},
   "outputs": [],
   "source": [
    "def fetch_speeches(years):\n",
    "    paths = ['https://bis.org/speeches/speeches_' + str(year) + '.zip' for year in years]\n",
    "    speeches = pd.DataFrame()\n",
    "\n",
    "    for path in paths:\n",
    "        remotezip = urlopen(path) # read the zip file as a string\n",
    "        zipinmemory = io.BytesIO(remotezip.read()) # convert from a string to bytes\n",
    "        zip = zipfile.ZipFile(zipinmemory) # pass the bytes to python's zipfile handler\n",
    "        \n",
    "        # read the excel spreadsheet\n",
    "        xlsx_path = zip.namelist()[0] # get the name of the excel file\n",
    "        with zip.open(xlsx_path) as f:\n",
    "            data = pd.read_csv(f)\n",
    "\n",
    "        data['id'] = [('').join(os.path.basename(urlparse(url).path).split('.')[:-1]) for url in data['url']]   \n",
    "        speeches = pd.concat([speeches, data])\n",
    "    return speeches\n",
    "\n",
    "def summation_score(classifier, weight):\n",
    "   classifier[classifier > 0] *= weight\n",
    "   try:\n",
    "      score = sum(classifier) / len(classifier)\n",
    "      return score\n",
    "   except:\n",
    "      return np.nan"
   ]
  },
  {
   "cell_type": "code",
   "execution_count": 29,
   "metadata": {},
   "outputs": [],
   "source": [
    "with open('parameters.pkl', 'rb') as f:\n",
    "    parameters = pickle.load(f)"
   ]
  },
  {
   "cell_type": "code",
   "execution_count": 31,
   "metadata": {},
   "outputs": [],
   "source": [
    "data = pd.read_csv('all.csv')\n",
    "#data = data.drop('text', axis=1)"
   ]
  },
  {
   "cell_type": "code",
   "execution_count": 32,
   "metadata": {},
   "outputs": [],
   "source": [
    "#data.to_csv('all_data_.csv')"
   ]
  },
  {
   "cell_type": "code",
   "execution_count": 33,
   "metadata": {},
   "outputs": [
    {
     "data": {
      "image/png": "[encoded data removed]",
      "text/plain": [
       "<Figure size 1000x300 with 1 Axes>"
      ]
     },
     "metadata": {},
     "output_type": "display_data"
    }
   ],
   "source": [
    "plt.figure(figsize=(10,3))\n",
    "plt.hist(data['climatebert_scores'], color = 'k', histtype='step', bins=30)\n",
    "plt.xlabel('ClimateBERT Score')\n",
    "plt.ylabel('Count')\n",
    "plt.yscale('log')"
   ]
  },
  {
   "cell_type": "code",
   "execution_count": 38,
   "metadata": {},
   "outputs": [
    {
     "name": "stdout",
     "output_type": "stream",
     "text": [
      "401\n"
     ]
    }
   ],
   "source": [
    "climate_speeches = data[data['climatebert_scores'] > 1.5]\n",
    "print(len(climate_speeches))"
   ]
  },
  {
   "cell_type": "code",
   "execution_count": 39,
   "metadata": {},
   "outputs": [
    {
     "data": {
      "text/html": [
       "<div>\n",
       "<style scoped>\n",
       "    .dataframe tbody tr th:only-of-type {\n",
       "        vertical-align: middle;\n",
       "    }\n",
       "\n",
       "    .dataframe tbody tr th {\n",
       "        vertical-align: top;\n",
       "    }\n",
       "\n",
       "    .dataframe thead th {\n",
       "        text-align: right;\n",
       "    }\n",
       "</style>\n",
       "<table border=\"1\" class=\"dataframe\">\n",
       "  <thead>\n",
       "    <tr style=\"text-align: right;\">\n",
       "      <th></th>\n",
       "      <th>Unnamed: 0</th>\n",
       "      <th>url</th>\n",
       "      <th>title</th>\n",
       "      <th>description</th>\n",
       "      <th>date</th>\n",
       "      <th>author</th>\n",
       "      <th>id</th>\n",
       "      <th>climatebert_scores</th>\n",
       "    </tr>\n",
       "  </thead>\n",
       "  <tbody>\n",
       "    <tr>\n",
       "      <th>712</th>\n",
       "      <td>21</td>\n",
       "      <td>https://www.bis.org/review/r001129c.pdf</td>\n",
       "      <td>Environmental issues and their implications fo...</td>\n",
       "      <td>Keynote Speech by Mr David Carse, Deputy Chief...</td>\n",
       "      <td>2000-11-29 00:00:00</td>\n",
       "      <td>David Carse</td>\n",
       "      <td>r001129c</td>\n",
       "      <td>2.994957</td>\n",
       "    </tr>\n",
       "    <tr>\n",
       "      <th>1125</th>\n",
       "      <td>136</td>\n",
       "      <td>https://www.bis.org/review/r010629a.pdf</td>\n",
       "      <td>Alan Greenspan: Impact of energy on the economy</td>\n",
       "      <td>Remarks by Mr Alan Greenspan, Chairman of the ...</td>\n",
       "      <td>2001-06-28 00:00:00</td>\n",
       "      <td>Alan Greenspan</td>\n",
       "      <td>r010629a</td>\n",
       "      <td>2.462214</td>\n",
       "    </tr>\n",
       "    <tr>\n",
       "      <th>2003</th>\n",
       "      <td>26</td>\n",
       "      <td>https://www.bis.org/review/r041229a.pdf</td>\n",
       "      <td>Jean-Pierre Roth: International monetary polic...</td>\n",
       "      <td>Summary of a speech by Mr Jean Pierre Roth, Ch...</td>\n",
       "      <td>2004-12-06 00:00:00</td>\n",
       "      <td>Jean-Pierre Roth</td>\n",
       "      <td>r041229a</td>\n",
       "      <td>2.321586</td>\n",
       "    </tr>\n",
       "    <tr>\n",
       "      <th>2006</th>\n",
       "      <td>29</td>\n",
       "      <td>https://www.bis.org/review/r041223g.pdf</td>\n",
       "      <td>Caleb M Fundanga: Economic and environmental g...</td>\n",
       "      <td>Speech by Dr Caleb M Fundanga, Governor of the...</td>\n",
       "      <td>2004-11-03 00:00:00</td>\n",
       "      <td>Caleb M Fundanga</td>\n",
       "      <td>r041223g</td>\n",
       "      <td>2.889234</td>\n",
       "    </tr>\n",
       "    <tr>\n",
       "      <th>2055</th>\n",
       "      <td>78</td>\n",
       "      <td>https://www.bis.org/review/r041122c.pdf</td>\n",
       "      <td>Philipp M Hildebrand: Monetary policy and oil ...</td>\n",
       "      <td>Speech by Mr Philipp M Hildebrand, Member of t...</td>\n",
       "      <td>2004-11-18 00:00:00</td>\n",
       "      <td>Philipp Hildebrand</td>\n",
       "      <td>r041122c</td>\n",
       "      <td>1.506405</td>\n",
       "    </tr>\n",
       "  </tbody>\n",
       "</table>\n",
       "</div>"
      ],
      "text/plain": [
       "      Unnamed: 0                                      url  \\\n",
       "712           21  https://www.bis.org/review/r001129c.pdf   \n",
       "1125         136  https://www.bis.org/review/r010629a.pdf   \n",
       "2003          26  https://www.bis.org/review/r041229a.pdf   \n",
       "2006          29  https://www.bis.org/review/r041223g.pdf   \n",
       "2055          78  https://www.bis.org/review/r041122c.pdf   \n",
       "\n",
       "                                                  title  \\\n",
       "712   Environmental issues and their implications fo...   \n",
       "1125    Alan Greenspan: Impact of energy on the economy   \n",
       "2003  Jean-Pierre Roth: International monetary polic...   \n",
       "2006  Caleb M Fundanga: Economic and environmental g...   \n",
       "2055  Philipp M Hildebrand: Monetary policy and oil ...   \n",
       "\n",
       "                                            description                 date  \\\n",
       "712   Keynote Speech by Mr David Carse, Deputy Chief...  2000-11-29 00:00:00   \n",
       "1125  Remarks by Mr Alan Greenspan, Chairman of the ...  2001-06-28 00:00:00   \n",
       "2003  Summary of a speech by Mr Jean Pierre Roth, Ch...  2004-12-06 00:00:00   \n",
       "2006  Speech by Dr Caleb M Fundanga, Governor of the...  2004-11-03 00:00:00   \n",
       "2055  Speech by Mr Philipp M Hildebrand, Member of t...  2004-11-18 00:00:00   \n",
       "\n",
       "                  author        id  climatebert_scores  \n",
       "712          David Carse  r001129c            2.994957  \n",
       "1125      Alan Greenspan  r010629a            2.462214  \n",
       "2003    Jean-Pierre Roth  r041229a            2.321586  \n",
       "2006    Caleb M Fundanga  r041223g            2.889234  \n",
       "2055  Philipp Hildebrand  r041122c            1.506405  "
      ]
     },
     "execution_count": 39,
     "metadata": {},
     "output_type": "execute_result"
    }
   ],
   "source": [
    "climate_speeches.head()"
   ]
  },
  {
   "cell_type": "code",
   "execution_count": 40,
   "metadata": {},
   "outputs": [
    {
     "data": {
      "text/plain": [
       "array([ 0.98525721,  0.99449325,  0.99714309,  0.99562293,  0.70619231,\n",
       "       -0.86230665,  0.50602657, -0.56856167,  0.99319673,  0.99180192,\n",
       "        0.90004653,  0.98878235,  0.99513477,  0.90663201,  0.99621117,\n",
       "        0.99729794,  0.94029081, -0.65129417,  0.98740804,  0.99354762,\n",
       "        0.99604577,  0.99847406,  0.99823916,  0.99653578,  0.99733943,\n",
       "        0.99795341,  0.99431026])"
      ]
     },
     "execution_count": 40,
     "metadata": {},
     "output_type": "execute_result"
    }
   ],
   "source": [
    "parameters['r010629a']"
   ]
  },
  {
   "cell_type": "code",
   "execution_count": 41,
   "metadata": {},
   "outputs": [
    {
     "data": {
      "text/html": [
       "<div>\n",
       "<style scoped>\n",
       "    .dataframe tbody tr th:only-of-type {\n",
       "        vertical-align: middle;\n",
       "    }\n",
       "\n",
       "    .dataframe tbody tr th {\n",
       "        vertical-align: top;\n",
       "    }\n",
       "\n",
       "    .dataframe thead th {\n",
       "        text-align: right;\n",
       "    }\n",
       "</style>\n",
       "<table border=\"1\" class=\"dataframe\">\n",
       "  <thead>\n",
       "    <tr style=\"text-align: right;\">\n",
       "      <th></th>\n",
       "      <th>url</th>\n",
       "      <th>climatebert_scores</th>\n",
       "    </tr>\n",
       "  </thead>\n",
       "  <tbody>\n",
       "    <tr>\n",
       "      <th>712</th>\n",
       "      <td>https://www.bis.org/review/r001129c.pdf</td>\n",
       "      <td>2.994957</td>\n",
       "    </tr>\n",
       "    <tr>\n",
       "      <th>1125</th>\n",
       "      <td>https://www.bis.org/review/r010629a.pdf</td>\n",
       "      <td>2.462214</td>\n",
       "    </tr>\n",
       "    <tr>\n",
       "      <th>2003</th>\n",
       "      <td>https://www.bis.org/review/r041229a.pdf</td>\n",
       "      <td>2.321586</td>\n",
       "    </tr>\n",
       "    <tr>\n",
       "      <th>2006</th>\n",
       "      <td>https://www.bis.org/review/r041223g.pdf</td>\n",
       "      <td>2.889234</td>\n",
       "    </tr>\n",
       "    <tr>\n",
       "      <th>2055</th>\n",
       "      <td>https://www.bis.org/review/r041122c.pdf</td>\n",
       "      <td>1.506405</td>\n",
       "    </tr>\n",
       "    <tr>\n",
       "      <th>...</th>\n",
       "      <td>...</td>\n",
       "      <td>...</td>\n",
       "    </tr>\n",
       "    <tr>\n",
       "      <th>19100</th>\n",
       "      <td>https://www.bis.org/review/r240607a.htm</td>\n",
       "      <td>2.374079</td>\n",
       "    </tr>\n",
       "    <tr>\n",
       "      <th>19105</th>\n",
       "      <td>https://www.bis.org/review/r240604c.htm</td>\n",
       "      <td>2.810636</td>\n",
       "    </tr>\n",
       "    <tr>\n",
       "      <th>19128</th>\n",
       "      <td>https://www.bis.org/review/r240619e.htm</td>\n",
       "      <td>2.993458</td>\n",
       "    </tr>\n",
       "    <tr>\n",
       "      <th>19141</th>\n",
       "      <td>https://www.bis.org/review/r240621h.htm</td>\n",
       "      <td>2.249453</td>\n",
       "    </tr>\n",
       "    <tr>\n",
       "      <th>19157</th>\n",
       "      <td>https://www.bis.org/review/r240621n.htm</td>\n",
       "      <td>2.462269</td>\n",
       "    </tr>\n",
       "  </tbody>\n",
       "</table>\n",
       "<p>401 rows × 2 columns</p>\n",
       "</div>"
      ],
      "text/plain": [
       "                                           url  climatebert_scores\n",
       "712    https://www.bis.org/review/r001129c.pdf            2.994957\n",
       "1125   https://www.bis.org/review/r010629a.pdf            2.462214\n",
       "2003   https://www.bis.org/review/r041229a.pdf            2.321586\n",
       "2006   https://www.bis.org/review/r041223g.pdf            2.889234\n",
       "2055   https://www.bis.org/review/r041122c.pdf            1.506405\n",
       "...                                        ...                 ...\n",
       "19100  https://www.bis.org/review/r240607a.htm            2.374079\n",
       "19105  https://www.bis.org/review/r240604c.htm            2.810636\n",
       "19128  https://www.bis.org/review/r240619e.htm            2.993458\n",
       "19141  https://www.bis.org/review/r240621h.htm            2.249453\n",
       "19157  https://www.bis.org/review/r240621n.htm            2.462269\n",
       "\n",
       "[401 rows x 2 columns]"
      ]
     },
     "execution_count": 41,
     "metadata": {},
     "output_type": "execute_result"
    }
   ],
   "source": [
    "climate_speeches[['url', 'climatebert_scores']]"
   ]
  },
  {
   "cell_type": "code",
   "execution_count": null,
   "metadata": {},
   "outputs": [],
   "source": []
  }
 ],
 "metadata": {
  "kernelspec": {
   "display_name": "mlenv",
   "language": "python",
   "name": "python3"
  },
  "language_info": {
   "codemirror_mode": {
    "name": "ipython",
    "version": 3
   },
   "file_extension": ".py",
   "mimetype": "text/x-python",
   "name": "python",
   "nbconvert_exporter": "python",
   "pygments_lexer": "ipython3",
   "version": "3.12.2"
  }
 },
 "nbformat": 4,
 "nbformat_minor": 2
}
