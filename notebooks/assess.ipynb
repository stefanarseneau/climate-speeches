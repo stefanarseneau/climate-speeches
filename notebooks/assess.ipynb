{
 "cells": [
  {
   "cell_type": "code",
   "execution_count": 101,
   "metadata": {},
   "outputs": [],
   "source": [
    "import io\n",
    "import os\n",
    "import zipfile\n",
    "import pickle\n",
    "from urllib.request import urlopen\n",
    "from urllib.parse import urlparse\n",
    "\n",
    "import pandas as pd\n",
    "import numpy as np\n",
    "from tqdm import tqdm\n",
    "import matplotlib.pyplot as plt"
   ]
  },
  {
   "cell_type": "code",
   "execution_count": 102,
   "metadata": {},
   "outputs": [],
   "source": [
    "def fetch_speeches(years):\n",
    "    paths = ['https://bis.org/speeches/speeches_' + str(year) + '.zip' for year in years]\n",
    "    speeches = pd.DataFrame()\n",
    "\n",
    "    for path in paths:\n",
    "        remotezip = urlopen(path) # read the zip file as a string\n",
    "        zipinmemory = io.BytesIO(remotezip.read()) # convert from a string to bytes\n",
    "        zip = zipfile.ZipFile(zipinmemory) # pass the bytes to python's zipfile handler\n",
    "        \n",
    "        # read the excel spreadsheet\n",
    "        xlsx_path = zip.namelist()[0] # get the name of the excel file\n",
    "        with zip.open(xlsx_path) as f:\n",
    "            data = pd.read_csv(f)\n",
    "\n",
    "        data['id'] = [('').join(os.path.basename(urlparse(url).path).split('.')[:-1]) for url in data['url']]   \n",
    "        speeches = pd.concat([speeches, data])\n",
    "    return speeches\n",
    "\n",
    "years = [1997, 1998, 1999, 2000, 2001, 2002, 2003, 2004, 2005,\n",
    "        2006, 2007, 2008, 2009, 2010, 2011, 2012, 2013, 2014,\n",
    "        2015, 2016, 2017, 2018, 2019, 2020, 2021, 2022, 2023, 2024]\n",
    "data = fetch_speeches(years)\n"
   ]
  },
  {
   "cell_type": "code",
   "execution_count": 103,
   "metadata": {},
   "outputs": [],
   "source": [
    "with open('parameters.pkl', 'rb') as f:\n",
    "    parameters = pickle.load(f)"
   ]
  },
  {
   "cell_type": "code",
   "execution_count": 104,
   "metadata": {},
   "outputs": [
    {
     "data": {
      "text/html": [
       "<div>\n",
       "<style scoped>\n",
       "    .dataframe tbody tr th:only-of-type {\n",
       "        vertical-align: middle;\n",
       "    }\n",
       "\n",
       "    .dataframe tbody tr th {\n",
       "        vertical-align: top;\n",
       "    }\n",
       "\n",
       "    .dataframe thead th {\n",
       "        text-align: right;\n",
       "    }\n",
       "</style>\n",
       "<table border=\"1\" class=\"dataframe\">\n",
       "  <thead>\n",
       "    <tr style=\"text-align: right;\">\n",
       "      <th></th>\n",
       "      <th>url</th>\n",
       "      <th>title</th>\n",
       "      <th>description</th>\n",
       "      <th>date</th>\n",
       "      <th>author</th>\n",
       "      <th>id</th>\n",
       "    </tr>\n",
       "  </thead>\n",
       "  <tbody>\n",
       "    <tr>\n",
       "      <th>0</th>\n",
       "      <td>https://www.bis.org/review/r970512a.pdf</td>\n",
       "      <td>Mr. Meyer discusses the economic outlook and t...</td>\n",
       "      <td>Remarks by Mr. Laurence H. Meyer, a member of ...</td>\n",
       "      <td>1997-04-24 00:00:00</td>\n",
       "      <td>Laurence H Meyer</td>\n",
       "      <td>r970512a</td>\n",
       "    </tr>\n",
       "    <tr>\n",
       "      <th>1</th>\n",
       "      <td>https://www.bis.org/review/r970605b.pdf</td>\n",
       "      <td>Mr. Heikensten looks at the intellectual frame...</td>\n",
       "      <td>Address by the Deputy Governor of the Bank of ...</td>\n",
       "      <td>1997-05-26 00:00:00</td>\n",
       "      <td>Lars Heikensten</td>\n",
       "      <td>r970605b</td>\n",
       "    </tr>\n",
       "  </tbody>\n",
       "</table>\n",
       "</div>"
      ],
      "text/plain": [
       "                                       url  \\\n",
       "0  https://www.bis.org/review/r970512a.pdf   \n",
       "1  https://www.bis.org/review/r970605b.pdf   \n",
       "\n",
       "                                               title  \\\n",
       "0  Mr. Meyer discusses the economic outlook and t...   \n",
       "1  Mr. Heikensten looks at the intellectual frame...   \n",
       "\n",
       "                                         description                 date  \\\n",
       "0  Remarks by Mr. Laurence H. Meyer, a member of ...  1997-04-24 00:00:00   \n",
       "1  Address by the Deputy Governor of the Bank of ...  1997-05-26 00:00:00   \n",
       "\n",
       "             author        id  \n",
       "0  Laurence H Meyer  r970512a  \n",
       "1   Lars Heikensten  r970605b  "
      ]
     },
     "execution_count": 104,
     "metadata": {},
     "output_type": "execute_result"
    }
   ],
   "source": [
    "data = data.drop('text', axis=1)\n",
    "data[0:2]"
   ]
  },
  {
   "cell_type": "code",
   "execution_count": 105,
   "metadata": {},
   "outputs": [
    {
     "name": "stderr",
     "output_type": "stream",
     "text": [
      "100%|██████████| 19160/19160 [00:00<00:00, 108414.16it/s]\n"
     ]
    }
   ],
   "source": [
    "def summation_score(classifier, weight):\n",
    "   classifier[classifier > 0] *= weight\n",
    "   try:\n",
    "      score = sum(classifier) / len(classifier)\n",
    "      return score\n",
    "   except:\n",
    "      return np.nan\n",
    "\n",
    "scores = pd.DataFrame()\n",
    "final_score = []\n",
    "ids = []\n",
    "\n",
    "weight = 1\n",
    "\n",
    "for key in tqdm(parameters.keys()):\n",
    "   ids.append(key)\n",
    "   final_score.append( summation_score(np.array(parameters[key]), weight) )\n",
    "\n",
    "scores['id'] = ids\n",
    "scores['climatebert_scores'] = final_score"
   ]
  },
  {
   "cell_type": "code",
   "execution_count": 106,
   "metadata": {},
   "outputs": [],
   "source": [
    "\n",
    "data = pd.merge(data, scores, on='id')"
   ]
  },
  {
   "cell_type": "code",
   "execution_count": 107,
   "metadata": {},
   "outputs": [
    {
     "data": {
      "image/png": "[encoded data removed]",
      "text/plain": [
       "<Figure size 1000x300 with 1 Axes>"
      ]
     },
     "metadata": {},
     "output_type": "display_data"
    }
   ],
   "source": [
    "plt.figure(figsize=(10,3))\n",
    "plt.hist(data['climatebert_scores'], color = 'k', histtype='step', bins=30)\n",
    "plt.xlabel('ClimateBERT Score')\n",
    "plt.ylabel('Count')\n",
    "plt.yscale('log')"
   ]
  },
  {
   "cell_type": "code",
   "execution_count": 113,
   "metadata": {},
   "outputs": [],
   "source": [
    "data.to_csv('all_data.csv')"
   ]
  },
  {
   "cell_type": "code",
   "execution_count": 109,
   "metadata": {},
   "outputs": [
    {
     "name": "stdout",
     "output_type": "stream",
     "text": [
      "0\n"
     ]
    }
   ],
   "source": [
    "climate_speeches = data[data['climatebert_scores'] > 1.5]\n",
    "print(len(climate_speeches))"
   ]
  },
  {
   "cell_type": "code",
   "execution_count": 110,
   "metadata": {},
   "outputs": [
    {
     "data": {
      "text/html": [
       "<div>\n",
       "<style scoped>\n",
       "    .dataframe tbody tr th:only-of-type {\n",
       "        vertical-align: middle;\n",
       "    }\n",
       "\n",
       "    .dataframe tbody tr th {\n",
       "        vertical-align: top;\n",
       "    }\n",
       "\n",
       "    .dataframe thead th {\n",
       "        text-align: right;\n",
       "    }\n",
       "</style>\n",
       "<table border=\"1\" class=\"dataframe\">\n",
       "  <thead>\n",
       "    <tr style=\"text-align: right;\">\n",
       "      <th></th>\n",
       "      <th>url</th>\n",
       "      <th>title</th>\n",
       "      <th>description</th>\n",
       "      <th>date</th>\n",
       "      <th>author</th>\n",
       "      <th>id</th>\n",
       "      <th>climatebert_scores</th>\n",
       "    </tr>\n",
       "  </thead>\n",
       "  <tbody>\n",
       "  </tbody>\n",
       "</table>\n",
       "</div>"
      ],
      "text/plain": [
       "Empty DataFrame\n",
       "Columns: [url, title, description, date, author, id, climatebert_scores]\n",
       "Index: []"
      ]
     },
     "execution_count": 110,
     "metadata": {},
     "output_type": "execute_result"
    }
   ],
   "source": [
    "climate_speeches.head()"
   ]
  },
  {
   "cell_type": "code",
   "execution_count": 111,
   "metadata": {},
   "outputs": [
    {
     "data": {
      "text/plain": [
       "array([ 1,  1,  1,  1,  1, -1,  1,  1, -1,  1, -1,  1,  1,  1,  1,  1,  1,\n",
       "        1,  1,  1,  1, -1,  1,  1,  1,  1,  1,  1,  1,  1,  1,  1,  1, -1,\n",
       "        1, -1, -1,  1,  1,  1, -1,  1, -1, -1, -1,  1,  1, -1,  1, -1, -1,\n",
       "       -1, -1, -1, -1, -1, -1, -1,  1])"
      ]
     },
     "execution_count": 111,
     "metadata": {},
     "output_type": "execute_result"
    }
   ],
   "source": [
    "parameters['r041122c']"
   ]
  },
  {
   "cell_type": "code",
   "execution_count": 112,
   "metadata": {},
   "outputs": [
    {
     "data": {
      "text/html": [
       "<div>\n",
       "<style scoped>\n",
       "    .dataframe tbody tr th:only-of-type {\n",
       "        vertical-align: middle;\n",
       "    }\n",
       "\n",
       "    .dataframe tbody tr th {\n",
       "        vertical-align: top;\n",
       "    }\n",
       "\n",
       "    .dataframe thead th {\n",
       "        text-align: right;\n",
       "    }\n",
       "</style>\n",
       "<table border=\"1\" class=\"dataframe\">\n",
       "  <thead>\n",
       "    <tr style=\"text-align: right;\">\n",
       "      <th></th>\n",
       "      <th>url</th>\n",
       "      <th>climatebert_scores</th>\n",
       "    </tr>\n",
       "  </thead>\n",
       "  <tbody>\n",
       "  </tbody>\n",
       "</table>\n",
       "</div>"
      ],
      "text/plain": [
       "Empty DataFrame\n",
       "Columns: [url, climatebert_scores]\n",
       "Index: []"
      ]
     },
     "execution_count": 112,
     "metadata": {},
     "output_type": "execute_result"
    }
   ],
   "source": [
    "climate_speeches[['url', 'climatebert_scores']]"
   ]
  },
  {
   "cell_type": "code",
   "execution_count": null,
   "metadata": {},
   "outputs": [],
   "source": []
  }
 ],
 "metadata": {
  "kernelspec": {
   "display_name": "mlenv",
   "language": "python",
   "name": "python3"
  },
  "language_info": {
   "codemirror_mode": {
    "name": "ipython",
    "version": 3
   },
   "file_extension": ".py",
   "mimetype": "text/x-python",
   "name": "python",
   "nbconvert_exporter": "python",
   "pygments_lexer": "ipython3",
   "version": "3.12.2"
  }
 },
 "nbformat": 4,
 "nbformat_minor": 2
}
