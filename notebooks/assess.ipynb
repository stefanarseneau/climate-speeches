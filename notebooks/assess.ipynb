{
 "cells": [
  {
   "cell_type": "code",
   "execution_count": 65,
   "metadata": {},
   "outputs": [],
   "source": [
    "import io\n",
    "import zipfile\n",
    "import pickle\n",
    "from urllib.request import urlopen\n",
    "from urllib.parse import urlparse\n",
    "\n",
    "import pandas as pd\n",
    "import numpy as np\n",
    "from tqdm import tqdm\n",
    "import matplotlib.pyplot as plt"
   ]
  },
  {
   "cell_type": "code",
   "execution_count": 66,
   "metadata": {},
   "outputs": [],
   "source": [
    "def fetch_speeches(years):\n",
    "    paths = ['https://bis.org/speeches/speeches_' + str(year) + '.zip' for year in years]\n",
    "    speeches = pd.DataFrame()\n",
    "\n",
    "    for path in paths:\n",
    "        remotezip = urlopen(path) # read the zip file as a string\n",
    "        zipinmemory = io.BytesIO(remotezip.read()) # convert from a string to bytes\n",
    "        zip = zipfile.ZipFile(zipinmemory) # pass the bytes to python's zipfile handler\n",
    "        \n",
    "        # read the excel spreadsheet\n",
    "        xlsx_path = zip.namelist()[0] # get the name of the excel file\n",
    "        with zip.open(xlsx_path) as f:\n",
    "            data = pd.read_csv(f)\n",
    "        speeches = pd.concat([speeches, data])\n",
    "    return speeches\n",
    "\n",
    "years = [1997, 1998, 1999, 2000, 2001, 2002, 2003, 2004, 2005,\n",
    "        2006, 2007, 2008, 2009, 2010, 2011, 2012, 2013, 2014,\n",
    "        2015, 2016, 2017, 2018, 2019, 2020, 2021, 2022, 2023, 2024]\n",
    "data = fetch_speeches(years)"
   ]
  },
  {
   "cell_type": "code",
   "execution_count": 67,
   "metadata": {},
   "outputs": [],
   "source": [
    "with open('parameters.pkl', 'rb') as f:\n",
    "    parameters = pickle.load(f)"
   ]
  },
  {
   "cell_type": "code",
   "execution_count": 68,
   "metadata": {},
   "outputs": [
    {
     "data": {
      "text/html": [
       "<div>\n",
       "<style scoped>\n",
       "    .dataframe tbody tr th:only-of-type {\n",
       "        vertical-align: middle;\n",
       "    }\n",
       "\n",
       "    .dataframe tbody tr th {\n",
       "        vertical-align: top;\n",
       "    }\n",
       "\n",
       "    .dataframe thead th {\n",
       "        text-align: right;\n",
       "    }\n",
       "</style>\n",
       "<table border=\"1\" class=\"dataframe\">\n",
       "  <thead>\n",
       "    <tr style=\"text-align: right;\">\n",
       "      <th></th>\n",
       "      <th>url</th>\n",
       "      <th>title</th>\n",
       "      <th>description</th>\n",
       "      <th>date</th>\n",
       "      <th>text</th>\n",
       "      <th>author</th>\n",
       "    </tr>\n",
       "  </thead>\n",
       "  <tbody>\n",
       "    <tr>\n",
       "      <th>0</th>\n",
       "      <td>https://www.bis.org/review/r970512a.pdf</td>\n",
       "      <td>Mr. Meyer discusses the economic outlook and t...</td>\n",
       "      <td>Remarks by Mr. Laurence H. Meyer, a member of ...</td>\n",
       "      <td>1997-04-24 00:00:00</td>\n",
       "      <td>Mr. Meyer discusses the economic outlook and t...</td>\n",
       "      <td>Laurence H Meyer</td>\n",
       "    </tr>\n",
       "    <tr>\n",
       "      <th>1</th>\n",
       "      <td>https://www.bis.org/review/r970605b.pdf</td>\n",
       "      <td>Mr. Heikensten looks at the intellectual frame...</td>\n",
       "      <td>Address by the Deputy Governor of the Bank of ...</td>\n",
       "      <td>1997-05-26 00:00:00</td>\n",
       "      <td>Mr. Heikensten looks at the intellectual frame...</td>\n",
       "      <td>Lars Heikensten</td>\n",
       "    </tr>\n",
       "  </tbody>\n",
       "</table>\n",
       "</div>"
      ],
      "text/plain": [
       "                                       url  \\\n",
       "0  https://www.bis.org/review/r970512a.pdf   \n",
       "1  https://www.bis.org/review/r970605b.pdf   \n",
       "\n",
       "                                               title  \\\n",
       "0  Mr. Meyer discusses the economic outlook and t...   \n",
       "1  Mr. Heikensten looks at the intellectual frame...   \n",
       "\n",
       "                                         description                 date  \\\n",
       "0  Remarks by Mr. Laurence H. Meyer, a member of ...  1997-04-24 00:00:00   \n",
       "1  Address by the Deputy Governor of the Bank of ...  1997-05-26 00:00:00   \n",
       "\n",
       "                                                text            author  \n",
       "0  Mr. Meyer discusses the economic outlook and t...  Laurence H Meyer  \n",
       "1  Mr. Heikensten looks at the intellectual frame...   Lars Heikensten  "
      ]
     },
     "execution_count": 68,
     "metadata": {},
     "output_type": "execute_result"
    }
   ],
   "source": [
    "data[0:2]"
   ]
  },
  {
   "cell_type": "code",
   "execution_count": 69,
   "metadata": {},
   "outputs": [
    {
     "name": "stderr",
     "output_type": "stream",
     "text": [
      "100%|██████████| 19160/19160 [00:00<00:00, 62729.92it/s]\n"
     ]
    }
   ],
   "source": [
    "def summation_score(classifier, weight):\n",
    "   classifier[classifier > 0] *= weight\n",
    "   try:\n",
    "      score = sum(classifier) / len(classifier)\n",
    "      return score\n",
    "   except:\n",
    "      return np.nan\n",
    "\n",
    "scores = pd.DataFrame()\n",
    "final_score = []\n",
    "ids = []\n",
    "\n",
    "weight = 3\n",
    "\n",
    "for key in tqdm(parameters.keys()):\n",
    "   ids.append(key)\n",
    "   final_score.append( summation_score(np.array(parameters[key]), weight) )\n",
    "\n",
    "scores['id'] = ids\n",
    "scores['climatebert_scores'] = final_score"
   ]
  },
  {
   "cell_type": "code",
   "execution_count": 70,
   "metadata": {},
   "outputs": [],
   "source": [
    "import os\n",
    "\n",
    "data['id'] = [os.path.basename(urlparse(url).path).split('.')[0] for url in data['url']]\n",
    "data = pd.merge(data, scores, on='id')"
   ]
  },
  {
   "cell_type": "code",
   "execution_count": 76,
   "metadata": {},
   "outputs": [
    {
     "data": {
      "image/png": "[encoded data removed]",
      "text/plain": [
       "<Figure size 1000x300 with 1 Axes>"
      ]
     },
     "metadata": {},
     "output_type": "display_data"
    }
   ],
   "source": [
    "plt.figure(figsize=(10,3))\n",
    "plt.hist(data['climatebert_scores'], color = 'k', histtype='step')\n",
    "plt.xlabel('ClimateBERT Score')\n",
    "plt.ylabel('Count')\n",
    "plt.yscale('log')"
   ]
  },
  {
   "cell_type": "code",
   "execution_count": 77,
   "metadata": {},
   "outputs": [],
   "source": [
    "data.to_csv('all_data.csv')"
   ]
  },
  {
   "cell_type": "code",
   "execution_count": 79,
   "metadata": {},
   "outputs": [
    {
     "name": "stdout",
     "output_type": "stream",
     "text": [
      "404\n"
     ]
    }
   ],
   "source": [
    "climate_speeches = data[data['climatebert_scores'] > 1.5]\n",
    "print(len(climate_speeches))"
   ]
  },
  {
   "cell_type": "code",
   "execution_count": 80,
   "metadata": {},
   "outputs": [
    {
     "data": {
      "text/html": [
       "<div>\n",
       "<style scoped>\n",
       "    .dataframe tbody tr th:only-of-type {\n",
       "        vertical-align: middle;\n",
       "    }\n",
       "\n",
       "    .dataframe tbody tr th {\n",
       "        vertical-align: top;\n",
       "    }\n",
       "\n",
       "    .dataframe thead th {\n",
       "        text-align: right;\n",
       "    }\n",
       "</style>\n",
       "<table border=\"1\" class=\"dataframe\">\n",
       "  <thead>\n",
       "    <tr style=\"text-align: right;\">\n",
       "      <th></th>\n",
       "      <th>url</th>\n",
       "      <th>title</th>\n",
       "      <th>description</th>\n",
       "      <th>date</th>\n",
       "      <th>text</th>\n",
       "      <th>author</th>\n",
       "      <th>id</th>\n",
       "      <th>climatebert_scores</th>\n",
       "    </tr>\n",
       "  </thead>\n",
       "  <tbody>\n",
       "    <tr>\n",
       "      <th>712</th>\n",
       "      <td>https://www.bis.org/review/r001129c.pdf</td>\n",
       "      <td>Environmental issues and their implications fo...</td>\n",
       "      <td>Keynote Speech by Mr David Carse, Deputy Chief...</td>\n",
       "      <td>2000-11-29 00:00:00</td>\n",
       "      <td>David Carse: Environmental issues and their im...</td>\n",
       "      <td>David Carse</td>\n",
       "      <td>r001129c</td>\n",
       "      <td>3.000000</td>\n",
       "    </tr>\n",
       "    <tr>\n",
       "      <th>1125</th>\n",
       "      <td>https://www.bis.org/review/r010629a.pdf</td>\n",
       "      <td>Alan Greenspan: Impact of energy on the economy</td>\n",
       "      <td>Remarks by Mr Alan Greenspan, Chairman of the ...</td>\n",
       "      <td>2001-06-28 00:00:00</td>\n",
       "      <td>Alan Greenspan: Impact of energy on the econom...</td>\n",
       "      <td>Alan Greenspan</td>\n",
       "      <td>r010629a</td>\n",
       "      <td>2.555556</td>\n",
       "    </tr>\n",
       "    <tr>\n",
       "      <th>2003</th>\n",
       "      <td>https://www.bis.org/review/r041229a.pdf</td>\n",
       "      <td>Jean-Pierre Roth: International monetary polic...</td>\n",
       "      <td>Summary of a speech by Mr Jean Pierre Roth, Ch...</td>\n",
       "      <td>2004-12-06 00:00:00</td>\n",
       "      <td>Jean-Pierre Roth: International monetary polic...</td>\n",
       "      <td>Jean-Pierre Roth</td>\n",
       "      <td>r041229a</td>\n",
       "      <td>3.000000</td>\n",
       "    </tr>\n",
       "    <tr>\n",
       "      <th>2006</th>\n",
       "      <td>https://www.bis.org/review/r041223g.pdf</td>\n",
       "      <td>Caleb M Fundanga: Economic and environmental g...</td>\n",
       "      <td>Speech by Dr Caleb M Fundanga, Governor of the...</td>\n",
       "      <td>2004-11-03 00:00:00</td>\n",
       "      <td>Caleb M Fundanga: Economic and environmental g...</td>\n",
       "      <td>Caleb M Fundanga</td>\n",
       "      <td>r041223g</td>\n",
       "      <td>2.906977</td>\n",
       "    </tr>\n",
       "    <tr>\n",
       "      <th>2055</th>\n",
       "      <td>https://www.bis.org/review/r041122c.pdf</td>\n",
       "      <td>Philipp M Hildebrand: Monetary policy and oil ...</td>\n",
       "      <td>Speech by Mr Philipp M Hildebrand, Member of t...</td>\n",
       "      <td>2004-11-18 00:00:00</td>\n",
       "      <td>Philipp M Hildebrand: Monetary policy and oil ...</td>\n",
       "      <td>Philipp Hildebrand</td>\n",
       "      <td>r041122c</td>\n",
       "      <td>1.576271</td>\n",
       "    </tr>\n",
       "  </tbody>\n",
       "</table>\n",
       "</div>"
      ],
      "text/plain": [
       "                                          url  \\\n",
       "712   https://www.bis.org/review/r001129c.pdf   \n",
       "1125  https://www.bis.org/review/r010629a.pdf   \n",
       "2003  https://www.bis.org/review/r041229a.pdf   \n",
       "2006  https://www.bis.org/review/r041223g.pdf   \n",
       "2055  https://www.bis.org/review/r041122c.pdf   \n",
       "\n",
       "                                                  title  \\\n",
       "712   Environmental issues and their implications fo...   \n",
       "1125    Alan Greenspan: Impact of energy on the economy   \n",
       "2003  Jean-Pierre Roth: International monetary polic...   \n",
       "2006  Caleb M Fundanga: Economic and environmental g...   \n",
       "2055  Philipp M Hildebrand: Monetary policy and oil ...   \n",
       "\n",
       "                                            description                 date  \\\n",
       "712   Keynote Speech by Mr David Carse, Deputy Chief...  2000-11-29 00:00:00   \n",
       "1125  Remarks by Mr Alan Greenspan, Chairman of the ...  2001-06-28 00:00:00   \n",
       "2003  Summary of a speech by Mr Jean Pierre Roth, Ch...  2004-12-06 00:00:00   \n",
       "2006  Speech by Dr Caleb M Fundanga, Governor of the...  2004-11-03 00:00:00   \n",
       "2055  Speech by Mr Philipp M Hildebrand, Member of t...  2004-11-18 00:00:00   \n",
       "\n",
       "                                                   text              author  \\\n",
       "712   David Carse: Environmental issues and their im...         David Carse   \n",
       "1125  Alan Greenspan: Impact of energy on the econom...      Alan Greenspan   \n",
       "2003  Jean-Pierre Roth: International monetary polic...    Jean-Pierre Roth   \n",
       "2006  Caleb M Fundanga: Economic and environmental g...    Caleb M Fundanga   \n",
       "2055  Philipp M Hildebrand: Monetary policy and oil ...  Philipp Hildebrand   \n",
       "\n",
       "            id  climatebert_scores  \n",
       "712   r001129c            3.000000  \n",
       "1125  r010629a            2.555556  \n",
       "2003  r041229a            3.000000  \n",
       "2006  r041223g            2.906977  \n",
       "2055  r041122c            1.576271  "
      ]
     },
     "execution_count": 80,
     "metadata": {},
     "output_type": "execute_result"
    }
   ],
   "source": [
    "climate_speeches.head()"
   ]
  },
  {
   "cell_type": "code",
   "execution_count": 81,
   "metadata": {},
   "outputs": [
    {
     "data": {
      "text/plain": [
       "array([ 1,  1,  1,  1,  1, -1,  1,  1, -1,  1, -1,  1,  1,  1,  1,  1,  1,\n",
       "        1,  1,  1,  1, -1,  1,  1,  1,  1,  1,  1,  1,  1,  1,  1,  1, -1,\n",
       "        1, -1, -1,  1,  1,  1, -1,  1, -1, -1, -1,  1,  1, -1,  1, -1, -1,\n",
       "       -1, -1, -1, -1, -1, -1, -1,  1])"
      ]
     },
     "execution_count": 81,
     "metadata": {},
     "output_type": "execute_result"
    }
   ],
   "source": [
    "parameters['r041122c']"
   ]
  },
  {
   "cell_type": "code",
   "execution_count": 75,
   "metadata": {},
   "outputs": [
    {
     "data": {
      "text/html": [
       "<div>\n",
       "<style scoped>\n",
       "    .dataframe tbody tr th:only-of-type {\n",
       "        vertical-align: middle;\n",
       "    }\n",
       "\n",
       "    .dataframe tbody tr th {\n",
       "        vertical-align: top;\n",
       "    }\n",
       "\n",
       "    .dataframe thead th {\n",
       "        text-align: right;\n",
       "    }\n",
       "</style>\n",
       "<table border=\"1\" class=\"dataframe\">\n",
       "  <thead>\n",
       "    <tr style=\"text-align: right;\">\n",
       "      <th></th>\n",
       "      <th>url</th>\n",
       "      <th>climatebert_scores</th>\n",
       "    </tr>\n",
       "  </thead>\n",
       "  <tbody>\n",
       "    <tr>\n",
       "      <th>712</th>\n",
       "      <td>https://www.bis.org/review/r001129c.pdf</td>\n",
       "      <td>3.000000</td>\n",
       "    </tr>\n",
       "    <tr>\n",
       "      <th>1125</th>\n",
       "      <td>https://www.bis.org/review/r010629a.pdf</td>\n",
       "      <td>2.555556</td>\n",
       "    </tr>\n",
       "    <tr>\n",
       "      <th>1912</th>\n",
       "      <td>https://www.bis.org/review/r030314e.pdf</td>\n",
       "      <td>1.333333</td>\n",
       "    </tr>\n",
       "    <tr>\n",
       "      <th>2003</th>\n",
       "      <td>https://www.bis.org/review/r041229a.pdf</td>\n",
       "      <td>3.000000</td>\n",
       "    </tr>\n",
       "    <tr>\n",
       "      <th>2006</th>\n",
       "      <td>https://www.bis.org/review/r041223g.pdf</td>\n",
       "      <td>2.906977</td>\n",
       "    </tr>\n",
       "    <tr>\n",
       "      <th>...</th>\n",
       "      <td>...</td>\n",
       "      <td>...</td>\n",
       "    </tr>\n",
       "    <tr>\n",
       "      <th>19105</th>\n",
       "      <td>https://www.bis.org/review/r240604c.htm</td>\n",
       "      <td>2.809524</td>\n",
       "    </tr>\n",
       "    <tr>\n",
       "      <th>19128</th>\n",
       "      <td>https://www.bis.org/review/r240619e.htm</td>\n",
       "      <td>3.000000</td>\n",
       "    </tr>\n",
       "    <tr>\n",
       "      <th>19138</th>\n",
       "      <td>https://www.bis.org/review/r240617d.htm</td>\n",
       "      <td>1.434783</td>\n",
       "    </tr>\n",
       "    <tr>\n",
       "      <th>19141</th>\n",
       "      <td>https://www.bis.org/review/r240621h.htm</td>\n",
       "      <td>2.230769</td>\n",
       "    </tr>\n",
       "    <tr>\n",
       "      <th>19157</th>\n",
       "      <td>https://www.bis.org/review/r240621n.htm</td>\n",
       "      <td>2.428571</td>\n",
       "    </tr>\n",
       "  </tbody>\n",
       "</table>\n",
       "<p>446 rows × 2 columns</p>\n",
       "</div>"
      ],
      "text/plain": [
       "                                           url  climatebert_scores\n",
       "712    https://www.bis.org/review/r001129c.pdf            3.000000\n",
       "1125   https://www.bis.org/review/r010629a.pdf            2.555556\n",
       "1912   https://www.bis.org/review/r030314e.pdf            1.333333\n",
       "2003   https://www.bis.org/review/r041229a.pdf            3.000000\n",
       "2006   https://www.bis.org/review/r041223g.pdf            2.906977\n",
       "...                                        ...                 ...\n",
       "19105  https://www.bis.org/review/r240604c.htm            2.809524\n",
       "19128  https://www.bis.org/review/r240619e.htm            3.000000\n",
       "19138  https://www.bis.org/review/r240617d.htm            1.434783\n",
       "19141  https://www.bis.org/review/r240621h.htm            2.230769\n",
       "19157  https://www.bis.org/review/r240621n.htm            2.428571\n",
       "\n",
       "[446 rows x 2 columns]"
      ]
     },
     "execution_count": 75,
     "metadata": {},
     "output_type": "execute_result"
    }
   ],
   "source": [
    "climate_speeches[['url', 'climatebert_scores']]"
   ]
  },
  {
   "cell_type": "code",
   "execution_count": null,
   "metadata": {},
   "outputs": [],
   "source": []
  }
 ],
 "metadata": {
  "kernelspec": {
   "display_name": "mlenv",
   "language": "python",
   "name": "python3"
  },
  "language_info": {
   "codemirror_mode": {
    "name": "ipython",
    "version": 3
   },
   "file_extension": ".py",
   "mimetype": "text/x-python",
   "name": "python",
   "nbconvert_exporter": "python",
   "pygments_lexer": "ipython3",
   "version": "3.12.2"
  }
 },
 "nbformat": 4,
 "nbformat_minor": 2
}
